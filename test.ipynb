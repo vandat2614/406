{
 "cells": [
  {
   "cell_type": "code",
   "execution_count": 1,
   "metadata": {},
   "outputs": [],
   "source": [
    "import cv2"
   ]
  },
  {
   "cell_type": "code",
   "execution_count": 3,
   "metadata": {},
   "outputs": [
    {
     "name": "stdout",
     "output_type": "stream",
     "text": [
      "(1405, 1080, 3)\n",
      "(702, 540, 3)\n",
      "(351, 270, 3)\n"
     ]
    }
   ],
   "source": [
    "img = cv2.imread('goku.jpg')\n",
    "scales = [1.0, 0.5, 0.25]\n",
    "\n",
    "for scale in scales:\n",
    "    new_img = cv2.resize(img, None, fx=scale, fy=scale)\n",
    "    print(new_img.shape)"
   ]
  },
  {
   "cell_type": "code",
   "execution_count": 4,
   "metadata": {},
   "outputs": [
    {
     "name": "stdout",
     "output_type": "stream",
     "text": [
      "(702, 2160, 3)\n"
     ]
    }
   ],
   "source": [
    "new = cv2.resize(img, None, fx=2, fy=0.5)\n",
    "print(new.shape)"
   ]
  }
 ],
 "metadata": {
  "kernelspec": {
   "display_name": "Python 3",
   "language": "python",
   "name": "python3"
  },
  "language_info": {
   "codemirror_mode": {
    "name": "ipython",
    "version": 3
   },
   "file_extension": ".py",
   "mimetype": "text/x-python",
   "name": "python",
   "nbconvert_exporter": "python",
   "pygments_lexer": "ipython3",
   "version": "3.11.5"
  }
 },
 "nbformat": 4,
 "nbformat_minor": 2
}
